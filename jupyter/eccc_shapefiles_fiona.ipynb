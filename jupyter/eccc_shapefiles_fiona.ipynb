{
 "cells": [
  {
   "cell_type": "code",
   "execution_count": 1,
   "metadata": {},
   "outputs": [
    {
     "name": "stdout",
     "output_type": "stream",
     "text": [
      "20220921_1200Z_FIONA.err.shp\n"
     ]
    }
   ],
   "source": [
    "import os\n",
    "import sys\n",
    "sys.path.append('../')\n",
    "from atlantic_hurricane import eccc_shapefiles\n",
    "\n",
    "#eccc_shapefiles.dl_shapefiles()\n",
    "eccc_shapefiles.dl_shapefile('20220921_1200Z_FIONA.err.shp')"
   ]
  },
  {
   "cell_type": "code",
   "execution_count": null,
   "metadata": {},
   "outputs": [],
   "source": [
    "import os\n",
    "import shapefile\n",
    "import matplotlib.pyplot as plt\n",
    "shape_dir = eccc_shapefiles.SHAPE_DIR\n",
    "sf = shapefile.Reader(os.path.join(shape_dir, '20220924_0000Z_FIONA.rad.shp'))\n",
    "\n",
    "plt.figure()\n",
    "for shape in sf.shapeRecords():\n",
    "    x = [i[0] for i in shape.shape.points[:]]\n",
    "    y = [i[1] for i in shape.shape.points[:]]\n",
    "    plt.plot(x,y)\n",
    "plt.show()"
   ]
  },
  {
   "cell_type": "code",
   "execution_count": null,
   "metadata": {},
   "outputs": [],
   "source": [
    "# From https://scitools.org.uk/cartopy/docs/latest/matplotlib/intro.html\n",
    "\n",
    "import cartopy.crs as ccrs\n",
    "import matplotlib.pyplot as plt\n",
    "\n",
    "ax = plt.axes(projection=ccrs.PlateCarree())\n",
    "ax.stock_img()\n",
    "\n",
    "ax.set_extent([-70, -50, 40, 55], crs=ccrs.PlateCarree())\n",
    "ax.coastlines(resolution='50m')\n",
    "ax.gridlines(draw_labels=True, x_inline=False, y_inline=False)\n",
    "\n",
    "from cartopy.io.shapereader import Reader\n",
    "from cartopy.feature import ShapelyFeature\n",
    "\n",
    "fname = os.path.join(shape_dir, '20220924_0000Z_FIONA.pts.shp')\n",
    "#shape_feature = ShapelyFeature(Reader(fname).geometries(),\n",
    "#                                ccrs.PlateCarree(), facecolor='none')\n",
    "\n",
    "points = list(Reader(fname).geometries())\n",
    "ax.scatter([point.x for point in points],\n",
    "           [point.y for point in points],\n",
    "           transform=ccrs.Geodetic())\n",
    "plt.show()\n"
   ]
  },
  {
   "cell_type": "code",
   "execution_count": null,
   "metadata": {},
   "outputs": [],
   "source": [
    "err_fname = os.path.join(shape_dir, '20220924_0000Z_FIONA.err.shp')\n",
    "\n",
    "ax_err = plt.axes(projection=ccrs.PlateCarree())\n",
    "ax_err.stock_img()\n",
    "\n",
    "ax_err.set_extent([-70, -50, 40, 55], crs=ccrs.PlateCarree())\n",
    "ax_err.coastlines(resolution='50m')\n",
    "ax_err.gridlines(draw_labels=True, x_inline=False, y_inline=False)\n",
    "\n",
    "err_shape_feature = ShapelyFeature(Reader(err_fname).geometries(),\n",
    "                                ccrs.PlateCarree(), facecolor='none')\n",
    "\n",
    "ax_err.add_feature(err_shape_feature)\n",
    "plt.show()"
   ]
  }
 ],
 "metadata": {
  "kernelspec": {
   "display_name": "hurricane-dash",
   "language": "python",
   "name": "python3"
  },
  "language_info": {
   "codemirror_mode": {
    "name": "ipython",
    "version": 3
   },
   "file_extension": ".py",
   "mimetype": "text/x-python",
   "name": "python",
   "nbconvert_exporter": "python",
   "pygments_lexer": "ipython3",
   "version": "3.9.16"
  },
  "orig_nbformat": 4
 },
 "nbformat": 4,
 "nbformat_minor": 2
}
