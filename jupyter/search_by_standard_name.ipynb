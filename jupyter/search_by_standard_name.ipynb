{
 "cells": [
  {
   "cell_type": "code",
   "execution_count": 10,
   "metadata": {},
   "outputs": [],
   "source": [
    "# Searches an ERDDAP Server based on a time range and then filters those \n",
    "# datasets by a list of standard names to find the appropriate variable names.\n",
    "\n",
    "from erddapy import ERDDAP\n",
    "import pandas as pd\n",
    "\n",
    "server = \"https://cioosatlantic.ca/erddap\"\n",
    "e = ERDDAP(server=server)\n"
   ]
  },
  {
   "cell_type": "code",
   "execution_count": 11,
   "metadata": {},
   "outputs": [],
   "source": [
    "# Define list of standard names to query ERDDAP with because actual variable \n",
    "# names will vary from dataset to dataset.\n",
    "# \n",
    "# Querying by standard names gives us a universal method to interrogate a \n",
    "# dataset, resulting variable names can then be used to lookup long names and other attributes\n",
    "\n",
    "standard_names = [\n",
    "    \"wind_speed\",\n",
    "    \"wind_speed_of_gust\",\n",
    "    \"wind_from_direction\",\n",
    "    \"air_temperature\",\n",
    "    \"air_pressure\",\n",
    "    \"relative_humidity\",\n",
    "    \"sea_surface_temperature\",\n",
    "    \"sea_surface_wave_significant_height\",\n",
    "    \"sea_surface_wave_maximum_height\",\n",
    "    \"sea_surface_wave_maximum_period\",\n",
    "    \"sea_surface_wave_from_direction\",\n",
    "    \"sea_surface_wave_mean_period\",\n",
    "    \"sea_surface_wave_zero_upcrossing_period\"\n",
    "]\n",
    "\n",
    "# Date range for Hurricane FIONA (2022)\n",
    "min_time = \"2022-09-20\"\n",
    "max_time = \"2022-09-30\"\n",
    "\n",
    "# Get dataset list based on date range and other attributes if desired \n",
    "# (like a bounding box)\n",
    "search_url = e.get_search_url(response=\"csv\", min_time=min_time, max_time=max_time)\n",
    "search = pd.read_csv(search_url)\n",
    "\n",
    "dataset_list = search[\"Dataset ID\"].values"
   ]
  },
  {
   "cell_type": "code",
   "execution_count": 12,
   "metadata": {},
   "outputs": [
    {
     "data": {
      "text/plain": [
       "array(['bb1_bop_level1', 'SMA_port_aux_basques',\n",
       "       'SMA_port_aux_basqes_wharf', 'eb3n-uxcb', 'x9dy-aai9', 'eda5-aubu',\n",
       "       'adpu-nyt8', 'SMA_saint_john_cruise_terminal',\n",
       "       'force_meteorological_tower', 'SMA_Fortune_Bay_Buoy',\n",
       "       'SMA_halifax', 'SMA_halifax_fairview', 'SMA_halifax_anemometer1',\n",
       "       'SMA_halifax_pier9c', 'SMA_Holyrood_Buoy2', 'SMA_holyrood_wharf',\n",
       "       'bio_atlantic_zone_monitoring_program_ctd',\n",
       "       'sma_negl_black_tickle_nlqu0003',\n",
       "       'sma_negl_cartwright_junction_nlqu0004',\n",
       "       'sma_negl_north_west_river_nlqu0007',\n",
       "       'sma_negl_postville_nlqu0001', 'sma_negl_red_bay_nlqu0005',\n",
       "       'sma_negl_rigolet_nlqu0002', 'SMA_red_island_shoal',\n",
       "       'DFO_Sutron_NHARB', 'DFO_Sutron_KLUMI', 'SMA_saint_john',\n",
       "       'SMA_st_johns', 'candhis_spm_97501_timeseries',\n",
       "       'candhis_spm_97501_wave_spectra', 'SPOT-1431_202204',\n",
       "       'SPOT-1461_202204'], dtype=object)"
      ]
     },
     "execution_count": 12,
     "metadata": {},
     "output_type": "execute_result"
    }
   ],
   "source": [
    "dataset_list"
   ]
  },
  {
   "cell_type": "code",
   "execution_count": 13,
   "metadata": {},
   "outputs": [
    {
     "name": "stdout",
     "output_type": "stream",
     "text": [
      "bb1_bop_level1 Doesn't have any matching variables.\n",
      "SMA_port_aux_basques ['wave_period_max', 'surface_temp_avg', 'wind_dir_avg', 'air_humidity_avg', 'wave_ht_max', 'wind_spd2_max', 'wind_spd_avg', 'air_pressure_avg', 'wave_ht_sig', 'wind_spd_max', 'wind_dir2_avg', 'wind_spd2_avg', 'air_temp_avg']\n",
      "SMA_port_aux_basqes_wharf ['wind_spd_max', 'wind_dir_avg', 'wind_spd_avg']\n",
      "eb3n-uxcb Doesn't have any matching variables.\n",
      "x9dy-aai9 Doesn't have any matching variables.\n",
      "eda5-aubu Doesn't have any matching variables.\n",
      "adpu-nyt8 Doesn't have any matching variables.\n",
      "SMA_saint_john_cruise_terminal ['wind_spd_max', 'wind_dir_avg', 'wind_spd_avg']\n",
      "force_meteorological_tower ['wind_from_direction_15min_average', 'air_temperature_1min_max', 'relative_humidity', 'wind_speed', 'air_pressure_raw', 'air_temperature', 'wind_speed_15min_max', 'wind_speed_15min_average', 'wind_from_direction', 'wind_speed_2min_max', 'wind_speed_15min_median', 'air_pressure']\n",
      "SMA_Fortune_Bay_Buoy ['wave_period_max', 'surface_temp_avg', 'wind_dir_avg', 'air_humidity_avg', 'wave_ht_max', 'wind_spd_avg', 'air_pressure_avg', 'wave_ht_sig', 'wind_spd_max', 'air_temp_avg']\n",
      "SMA_halifax ['wave_period_max', 'surface_temp_avg', 'wind_dir_avg', 'wave_ht_max', 'wind_spd_avg', 'air_pressure_avg', 'wave_ht_sig', 'wind_spd_max', 'air_temp_avg']\n",
      "SMA_halifax_fairview ['air_pressure_avg', 'wind_spd_max', 'wind_dir_avg', 'air_temp_avg', 'air_humidity_avg', 'wind_spd_avg']\n",
      "SMA_halifax_anemometer1 ['wind_spd_max', 'wind_dir_avg', 'wind_spd_avg']\n",
      "SMA_halifax_pier9c ['air_pressure_avg', 'wind_spd_max', 'wind_dir_avg', 'air_temp_avg', 'air_humidity_avg', 'wind_spd_avg']\n",
      "SMA_Holyrood_Buoy2 ['wave_period_max', 'surface_temp_avg', 'wind_dir_avg', 'air_humidity_avg', 'wave_ht_max', 'wind_spd_avg', 'air_pressure_avg', 'wave_ht_sig', 'wind_spd_max', 'air_temp_avg']\n",
      "SMA_holyrood_wharf ['air_pressure_avg', 'wind_spd_max', 'wind_dir_avg', 'air_temp_avg', 'wind_spd_avg']\n",
      "bio_atlantic_zone_monitoring_program_ctd Doesn't have any matching variables.\n",
      "sma_negl_black_tickle_nlqu0003 ['air_temp_min', 'air_temp_max', 'wind_spd_max_dir', 'rel_humidity_max', 'wind_dir_avg', 'rel_humidity', 'wind_spd_avg', 'air_pressure_avg', 'wind_spd_max', 'air_temp_avg', 'rel_humidity_min']\n",
      "sma_negl_cartwright_junction_nlqu0004 ['air_temp_min', 'air_temp_max', 'wind_spd_max_dir', 'rel_humidity_max', 'wind_dir_avg', 'rel_humidity', 'wind_spd_avg', 'air_pressure_avg', 'wind_spd_max', 'air_temp_avg', 'rel_humidity_min']\n",
      "sma_negl_north_west_river_nlqu0007 ['air_temp_min', 'air_temp_max', 'wind_spd_max_dir', 'rel_humidity_max', 'wind_dir_avg', 'rel_humidity', 'wind_spd_avg', 'air_pressure_avg', 'wind_spd_max', 'air_temp_avg', 'rel_humidity_min']\n",
      "sma_negl_postville_nlqu0001 ['air_temp_min', 'air_temp_max', 'wind_spd_max_dir', 'rel_humidity_max', 'wind_dir_avg', 'rel_humidity', 'wind_spd_avg', 'air_pressure_avg', 'wind_spd_max', 'air_temp_avg', 'rel_humidity_min']\n",
      "sma_negl_red_bay_nlqu0005 ['air_temp_min', 'air_temp_max', 'wind_spd_max_dir', 'rel_humidity_max', 'wind_dir_avg', 'rel_humidity', 'wind_spd_avg', 'air_pressure_avg', 'wind_spd_max', 'air_temp_avg', 'rel_humidity_min']\n",
      "sma_negl_rigolet_nlqu0002 ['air_temp_min', 'air_temp_max', 'wind_spd_max_dir', 'rel_humidity_max', 'wind_dir_avg', 'rel_humidity', 'wind_spd_avg', 'air_pressure_avg', 'wind_spd_max', 'air_temp_avg', 'rel_humidity_min']\n",
      "SMA_red_island_shoal ['wave_period_max', 'surface_temp_avg', 'wind_dir_avg', 'air_humidity_avg', 'wave_ht_max', 'wind_spd2_max', 'wind_spd_avg', 'air_pressure_avg', 'wave_ht_sig', 'wind_spd_max', 'wind_dir2_avg', 'wind_spd2_avg', 'air_temp_avg', 'wave_dir_avg']\n",
      "DFO_Sutron_NHARB ['water_temperature']\n",
      "DFO_Sutron_KLUMI ['wind_spd_gust', 'wind_dir_avg', 'wind_spd_avg']\n",
      "SMA_saint_john ['wave_period_max', 'surface_temp_avg', 'wind_dir_avg', 'wave_ht_max', 'wind_spd_avg', 'air_pressure_avg', 'wave_ht_sig', 'wind_spd_max', 'air_temp_avg']\n",
      "SMA_st_johns ['wave_period_max', 'surface_temp_avg', 'wind_dir_avg', 'air_humidity_avg', 'wave_ht_max', 'wind_spd2_max', 'wind_spd_avg', 'air_pressure_avg', 'wave_ht_sig', 'wind_spd_max', 'wind_dir2_avg', 'air_temp_avg', 'wave_dir_avg']\n",
      "candhis_spm_97501_timeseries ['wave_ht_sig', 'wave_ht_sig_Hm0', 'sea_surface_temp_avg', 'wave_ht_max']\n",
      "candhis_spm_97501_wave_spectra ['direction']\n",
      "SPOT-1431_202204 ['wind_speed', 'wave_significant_height', 'surface_temp', 'wave_mean_period']\n",
      "SPOT-1461_202204 ['wind_speed', 'wave_significant_height', 'surface_temp', 'wave_mean_period']\n"
     ]
    }
   ],
   "source": [
    "# Interrogate each dataset for the list of variable names using the list \n",
    "# of standard names above\n",
    "\n",
    "final_dataset_list = {}\n",
    "\n",
    "for dataset_id in dataset_list:\n",
    "    dataset_vars = e.get_var_by_attr(dataset_id, standard_name=lambda std_name: std_name in standard_names)\n",
    "    if dataset_vars:\n",
    "        final_dataset_list[dataset_id] = dataset_vars\n",
    "        print(dataset_id, dataset_vars)\n",
    "    else:\n",
    "        print(dataset_id, \"Doesn't have any matching variables.\")\n"
   ]
  }
 ],
 "metadata": {
  "kernelspec": {
   "display_name": "venv",
   "language": "python",
   "name": "python3"
  },
  "language_info": {
   "codemirror_mode": {
    "name": "ipython",
    "version": 3
   },
   "file_extension": ".py",
   "mimetype": "text/x-python",
   "name": "python",
   "nbconvert_exporter": "python",
   "pygments_lexer": "ipython3",
   "version": "3.10.9"
  },
  "orig_nbformat": 4
 },
 "nbformat": 4,
 "nbformat_minor": 2
}
